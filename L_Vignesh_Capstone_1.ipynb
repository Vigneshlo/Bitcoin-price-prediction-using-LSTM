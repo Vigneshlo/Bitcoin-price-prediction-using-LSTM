{
 "cells": [
  {
   "cell_type": "markdown",
   "metadata": {
    "id": "h1UP1zMWFmTA"
   },
   "source": [
    "# We are going to predect the price of Bitcoin using LSTM method"
   ]
  },
  {
   "cell_type": "markdown",
   "metadata": {
    "id": "bzRSBsEQFPGX"
   },
   "source": [
    "Lets import necessary libary"
   ]
  },
  {
   "cell_type": "code",
   "execution_count": 1,
   "metadata": {
    "id": "uyIiODZ49Coy"
   },
   "outputs": [],
   "source": [
    "import requests\n",
    "import pandas as pd\n",
    "import numpy as np\n",
    "import matplotlib.pyplot as plt\n",
    "\n",
    "from sklearn.preprocessing import MinMaxScaler\n",
    "from tensorflow.keras.layers import Dense,Dropout,LSTM\n",
    "from tensorflow.keras.models import Sequential"
   ]
  },
  {
   "cell_type": "markdown",
   "metadata": {
    "id": "WgGr50bRF-NC"
   },
   "source": [
    "let's load our present data for prediction ( The data has been taken from the Web side 'WWW.twelvedata.com')"
   ]
  },
  {
   "cell_type": "code",
   "execution_count": 2,
   "metadata": {
    "id": "6ZpMZ4uvAxAg"
   },
   "outputs": [],
   "source": [
    "api_key='3aa545146899454d82aa265635a8a193'\n",
    "symbel='UTC/USD'\n",
    "interval = '5min'\n",
    "order = 'asc'\n",
    "start_date='2022-11-01 00:00:00'\n",
    "end_date='2022-12-01 00:00:00'\n",
    "api_url=f'https://api.twelvedata.com/time_series?symbol={symbel}&start_data={start_date}&end_date={end_date}&interval={interval}&order={order}&apikey={api_key}'"
   ]
  },
  {
   "cell_type": "code",
   "execution_count": 3,
   "metadata": {
    "colab": {
     "base_uri": "https://localhost:8080/",
     "height": 424
    },
    "id": "XvJVlMC8LrUI",
    "outputId": "ba8623da-c90c-4240-a7ce-80824d6d3329"
   },
   "outputs": [
    {
     "data": {
      "text/html": [
       "<div>\n",
       "<style scoped>\n",
       "    .dataframe tbody tr th:only-of-type {\n",
       "        vertical-align: middle;\n",
       "    }\n",
       "\n",
       "    .dataframe tbody tr th {\n",
       "        vertical-align: top;\n",
       "    }\n",
       "\n",
       "    .dataframe thead th {\n",
       "        text-align: right;\n",
       "    }\n",
       "</style>\n",
       "<table border=\"1\" class=\"dataframe\">\n",
       "  <thead>\n",
       "    <tr style=\"text-align: right;\">\n",
       "      <th></th>\n",
       "      <th>datetime</th>\n",
       "      <th>open</th>\n",
       "      <th>high</th>\n",
       "      <th>low</th>\n",
       "      <th>close</th>\n",
       "    </tr>\n",
       "  </thead>\n",
       "  <tbody>\n",
       "    <tr>\n",
       "      <th>0</th>\n",
       "      <td>2022-11-12 12:20:00</td>\n",
       "      <td>0.00674</td>\n",
       "      <td>0.00675</td>\n",
       "      <td>0.00674</td>\n",
       "      <td>0.00674</td>\n",
       "    </tr>\n",
       "    <tr>\n",
       "      <th>1</th>\n",
       "      <td>2022-11-12 12:25:00</td>\n",
       "      <td>0.00674</td>\n",
       "      <td>0.00674</td>\n",
       "      <td>0.00674</td>\n",
       "      <td>0.00674</td>\n",
       "    </tr>\n",
       "    <tr>\n",
       "      <th>2</th>\n",
       "      <td>2022-11-12 12:30:00</td>\n",
       "      <td>0.00674</td>\n",
       "      <td>0.00674</td>\n",
       "      <td>0.00673</td>\n",
       "      <td>0.00673</td>\n",
       "    </tr>\n",
       "    <tr>\n",
       "      <th>3</th>\n",
       "      <td>2022-11-12 12:35:00</td>\n",
       "      <td>0.00673</td>\n",
       "      <td>0.00674</td>\n",
       "      <td>0.00673</td>\n",
       "      <td>0.00674</td>\n",
       "    </tr>\n",
       "    <tr>\n",
       "      <th>4</th>\n",
       "      <td>2022-11-12 12:40:00</td>\n",
       "      <td>0.00674</td>\n",
       "      <td>0.00675</td>\n",
       "      <td>0.00674</td>\n",
       "      <td>0.00675</td>\n",
       "    </tr>\n",
       "    <tr>\n",
       "      <th>...</th>\n",
       "      <td>...</td>\n",
       "      <td>...</td>\n",
       "      <td>...</td>\n",
       "      <td>...</td>\n",
       "      <td>...</td>\n",
       "    </tr>\n",
       "    <tr>\n",
       "      <th>4995</th>\n",
       "      <td>2022-11-30 23:40:00</td>\n",
       "      <td>0.00687</td>\n",
       "      <td>0.00688</td>\n",
       "      <td>0.00687</td>\n",
       "      <td>0.00688</td>\n",
       "    </tr>\n",
       "    <tr>\n",
       "      <th>4996</th>\n",
       "      <td>2022-11-30 23:45:00</td>\n",
       "      <td>0.00688</td>\n",
       "      <td>0.00689</td>\n",
       "      <td>0.00688</td>\n",
       "      <td>0.00688</td>\n",
       "    </tr>\n",
       "    <tr>\n",
       "      <th>4997</th>\n",
       "      <td>2022-11-30 23:50:00</td>\n",
       "      <td>0.00688</td>\n",
       "      <td>0.00688</td>\n",
       "      <td>0.00687</td>\n",
       "      <td>0.00688</td>\n",
       "    </tr>\n",
       "    <tr>\n",
       "      <th>4998</th>\n",
       "      <td>2022-11-30 23:55:00</td>\n",
       "      <td>0.00687</td>\n",
       "      <td>0.00687</td>\n",
       "      <td>0.00687</td>\n",
       "      <td>0.00687</td>\n",
       "    </tr>\n",
       "    <tr>\n",
       "      <th>4999</th>\n",
       "      <td>2022-12-01 00:00:00</td>\n",
       "      <td>0.00687</td>\n",
       "      <td>0.00687</td>\n",
       "      <td>0.00687</td>\n",
       "      <td>0.00687</td>\n",
       "    </tr>\n",
       "  </tbody>\n",
       "</table>\n",
       "<p>5000 rows × 5 columns</p>\n",
       "</div>"
      ],
      "text/plain": [
       "                 datetime     open     high      low    close\n",
       "0     2022-11-12 12:20:00  0.00674  0.00675  0.00674  0.00674\n",
       "1     2022-11-12 12:25:00  0.00674  0.00674  0.00674  0.00674\n",
       "2     2022-11-12 12:30:00  0.00674  0.00674  0.00673  0.00673\n",
       "3     2022-11-12 12:35:00  0.00673  0.00674  0.00673  0.00674\n",
       "4     2022-11-12 12:40:00  0.00674  0.00675  0.00674  0.00675\n",
       "...                   ...      ...      ...      ...      ...\n",
       "4995  2022-11-30 23:40:00  0.00687  0.00688  0.00687  0.00688\n",
       "4996  2022-11-30 23:45:00  0.00688  0.00689  0.00688  0.00688\n",
       "4997  2022-11-30 23:50:00  0.00688  0.00688  0.00687  0.00688\n",
       "4998  2022-11-30 23:55:00  0.00687  0.00687  0.00687  0.00687\n",
       "4999  2022-12-01 00:00:00  0.00687  0.00687  0.00687  0.00687\n",
       "\n",
       "[5000 rows x 5 columns]"
      ]
     },
     "execution_count": 3,
     "metadata": {},
     "output_type": "execute_result"
    }
   ],
   "source": [
    "data = requests.get(api_url).json()\n",
    "data_final=pd.DataFrame(data['values'])\n",
    "data_final"
   ]
  },
  {
   "cell_type": "code",
   "execution_count": 4,
   "metadata": {
    "id": "9vH8KdWrVBw4"
   },
   "outputs": [],
   "source": [
    "scaler= MinMaxScaler(feature_range=(0,1))\n",
    "scaled_data=scaler.fit_transform(data_final['close'].values.reshape(-1,1))"
   ]
  },
  {
   "cell_type": "code",
   "execution_count": 5,
   "metadata": {
    "id": "rr0rE8FRYArr"
   },
   "outputs": [],
   "source": [
    "time_intervals_to_train=24\n",
    "prediction_interval=12\n",
    "\n",
    "x_train=[]\n",
    "y_train=[]"
   ]
  },
  {
   "cell_type": "code",
   "execution_count": 6,
   "metadata": {
    "id": "abiNyQCcptJl"
   },
   "outputs": [],
   "source": [
    "for i in range(time_intervals_to_train, len(scaled_data) - prediction_interval):\n",
    "  x_train.append(scaled_data[i - time_intervals_to_train:i, 0])\n",
    "  y_train.append(scaled_data[i + prediction_interval, 0])\n",
    "\n",
    "x_train = np.array(x_train)\n",
    "y_train=np.array(y_train) "
   ]
  },
  {
   "cell_type": "code",
   "execution_count": 7,
   "metadata": {
    "colab": {
     "base_uri": "https://localhost:8080/"
    },
    "id": "D5F-ai2a6iSo",
    "outputId": "ee9d8847-e18a-4b9a-e57c-961fd0977ca9"
   },
   "outputs": [
    {
     "data": {
      "text/plain": [
       "(4964, 24)"
      ]
     },
     "execution_count": 7,
     "metadata": {},
     "output_type": "execute_result"
    }
   ],
   "source": [
    "x_train.shape"
   ]
  },
  {
   "cell_type": "code",
   "execution_count": 8,
   "metadata": {
    "id": "r29_AdpBy9CW"
   },
   "outputs": [],
   "source": [
    "x_train=np.reshape(x_train,(x_train.shape[0],x_train.shape[1],1))"
   ]
  },
  {
   "cell_type": "code",
   "execution_count": 9,
   "metadata": {
    "colab": {
     "base_uri": "https://localhost:8080/"
    },
    "id": "Z0eFPc8v4k0K",
    "outputId": "6f35e5d6-1ac3-4440-b1e2-a594717543d0"
   },
   "outputs": [
    {
     "data": {
      "text/plain": [
       "(4964, 24, 1)"
      ]
     },
     "execution_count": 9,
     "metadata": {},
     "output_type": "execute_result"
    }
   ],
   "source": [
    "x_train.shape"
   ]
  },
  {
   "cell_type": "markdown",
   "metadata": {
    "id": "8pEc2W_YGw7x"
   },
   "source": [
    "Let's apply LSTM for the model "
   ]
  },
  {
   "cell_type": "code",
   "execution_count": 10,
   "metadata": {
    "id": "vzRaXyxe7HWl"
   },
   "outputs": [],
   "source": [
    "model = Sequential()\n",
    "\n",
    "\n",
    "model.add(LSTM(128,return_sequences=True,input_shape=(x_train.shape[1],1),activation='relu'))\n",
    "model.add(Dropout(0.4))\n",
    "model.add(LSTM(64,return_sequences=True,activation='relu'))\n",
    "model.add(Dropout(0.3))\n",
    "model.add(LSTM(32,activation='relu'))\n",
    "model.add(Dropout(0.2))\n",
    "model.add(Dense(1, activation='sigmoid'))"
   ]
  },
  {
   "cell_type": "code",
   "execution_count": 11,
   "metadata": {
    "id": "biIfMVUx9iTf"
   },
   "outputs": [],
   "source": [
    "model.compile(loss='mean_squared_error',optimizer='adam',metrics=['accuracy'])"
   ]
  },
  {
   "cell_type": "code",
   "execution_count": 12,
   "metadata": {
    "colab": {
     "base_uri": "https://localhost:8080/"
    },
    "id": "wOe0Fhbs-0rR",
    "outputId": "f129e32a-99b7-4b60-cafe-6e49361b0fb9"
   },
   "outputs": [
    {
     "name": "stdout",
     "output_type": "stream",
     "text": [
      "Epoch 1/10\n",
      "78/78 [==============================] - 11s 47ms/step - loss: 0.0207 - accuracy: 8.0580e-04\n",
      "Epoch 2/10\n",
      "78/78 [==============================] - 4s 46ms/step - loss: 0.0068 - accuracy: 0.0012\n",
      "Epoch 3/10\n",
      "78/78 [==============================] - 4s 47ms/step - loss: 0.0055 - accuracy: 0.0012\n",
      "Epoch 4/10\n",
      "78/78 [==============================] - 4s 54ms/step - loss: 0.0053 - accuracy: 0.0012\n",
      "Epoch 5/10\n",
      "78/78 [==============================] - 5s 62ms/step - loss: 0.0052 - accuracy: 0.0012\n",
      "Epoch 6/10\n",
      "78/78 [==============================] - 5s 64ms/step - loss: 0.0049 - accuracy: 0.0012\n",
      "Epoch 7/10\n",
      "78/78 [==============================] - 6s 74ms/step - loss: 0.0047 - accuracy: 0.0012\n",
      "Epoch 8/10\n",
      "78/78 [==============================] - 5s 70ms/step - loss: 0.0046 - accuracy: 0.0012\n",
      "Epoch 9/10\n",
      "78/78 [==============================] - 6s 72ms/step - loss: 0.0046 - accuracy: 0.0012\n",
      "Epoch 10/10\n",
      "78/78 [==============================] - 6s 76ms/step - loss: 0.0045 - accuracy: 0.0012\n"
     ]
    },
    {
     "data": {
      "text/plain": [
       "<keras.callbacks.History at 0x1973e5e8bb0>"
      ]
     },
     "execution_count": 12,
     "metadata": {},
     "output_type": "execute_result"
    }
   ],
   "source": [
    "model.fit(x_train, y_train, epochs=10, batch_size=64)"
   ]
  },
  {
   "cell_type": "markdown",
   "metadata": {
    "id": "yaW-7j_Xmssi"
   },
   "source": [
    "Lets test our model "
   ]
  },
  {
   "cell_type": "code",
   "execution_count": 13,
   "metadata": {
    "colab": {
     "base_uri": "https://localhost:8080/",
     "height": 424
    },
    "id": "wzpQwAskn1sJ",
    "outputId": "dd172f9c-8536-4b22-a4b2-31298f1b18af"
   },
   "outputs": [
    {
     "data": {
      "text/html": [
       "<div>\n",
       "<style scoped>\n",
       "    .dataframe tbody tr th:only-of-type {\n",
       "        vertical-align: middle;\n",
       "    }\n",
       "\n",
       "    .dataframe tbody tr th {\n",
       "        vertical-align: top;\n",
       "    }\n",
       "\n",
       "    .dataframe thead th {\n",
       "        text-align: right;\n",
       "    }\n",
       "</style>\n",
       "<table border=\"1\" class=\"dataframe\">\n",
       "  <thead>\n",
       "    <tr style=\"text-align: right;\">\n",
       "      <th></th>\n",
       "      <th>datetime</th>\n",
       "      <th>open</th>\n",
       "      <th>high</th>\n",
       "      <th>low</th>\n",
       "      <th>close</th>\n",
       "    </tr>\n",
       "  </thead>\n",
       "  <tbody>\n",
       "    <tr>\n",
       "      <th>0</th>\n",
       "      <td>2022-11-16 06:55:00</td>\n",
       "      <td>0.00675</td>\n",
       "      <td>0.00675</td>\n",
       "      <td>0.00675</td>\n",
       "      <td>0.00675</td>\n",
       "    </tr>\n",
       "    <tr>\n",
       "      <th>1</th>\n",
       "      <td>2022-11-16 07:00:00</td>\n",
       "      <td>0.00675</td>\n",
       "      <td>0.00676</td>\n",
       "      <td>0.00674</td>\n",
       "      <td>0.00676</td>\n",
       "    </tr>\n",
       "    <tr>\n",
       "      <th>2</th>\n",
       "      <td>2022-11-16 07:05:00</td>\n",
       "      <td>0.00675</td>\n",
       "      <td>0.00676</td>\n",
       "      <td>0.00675</td>\n",
       "      <td>0.00675</td>\n",
       "    </tr>\n",
       "    <tr>\n",
       "      <th>3</th>\n",
       "      <td>2022-11-16 07:10:00</td>\n",
       "      <td>0.00675</td>\n",
       "      <td>0.00675</td>\n",
       "      <td>0.00674</td>\n",
       "      <td>0.00674</td>\n",
       "    </tr>\n",
       "    <tr>\n",
       "      <th>4</th>\n",
       "      <td>2022-11-16 07:15:00</td>\n",
       "      <td>0.00674</td>\n",
       "      <td>0.00675</td>\n",
       "      <td>0.00674</td>\n",
       "      <td>0.00675</td>\n",
       "    </tr>\n",
       "    <tr>\n",
       "      <th>...</th>\n",
       "      <td>...</td>\n",
       "      <td>...</td>\n",
       "      <td>...</td>\n",
       "      <td>...</td>\n",
       "      <td>...</td>\n",
       "    </tr>\n",
       "    <tr>\n",
       "      <th>4995</th>\n",
       "      <td>2022-12-04 23:40:00</td>\n",
       "      <td>0.00684</td>\n",
       "      <td>0.00684</td>\n",
       "      <td>0.00684</td>\n",
       "      <td>0.00684</td>\n",
       "    </tr>\n",
       "    <tr>\n",
       "      <th>4996</th>\n",
       "      <td>2022-12-04 23:45:00</td>\n",
       "      <td>0.00684</td>\n",
       "      <td>0.00685</td>\n",
       "      <td>0.00684</td>\n",
       "      <td>0.00685</td>\n",
       "    </tr>\n",
       "    <tr>\n",
       "      <th>4997</th>\n",
       "      <td>2022-12-04 23:50:00</td>\n",
       "      <td>0.00685</td>\n",
       "      <td>0.00686</td>\n",
       "      <td>0.00685</td>\n",
       "      <td>0.00685</td>\n",
       "    </tr>\n",
       "    <tr>\n",
       "      <th>4998</th>\n",
       "      <td>2022-12-04 23:55:00</td>\n",
       "      <td>0.00685</td>\n",
       "      <td>0.00685</td>\n",
       "      <td>0.00684</td>\n",
       "      <td>0.00684</td>\n",
       "    </tr>\n",
       "    <tr>\n",
       "      <th>4999</th>\n",
       "      <td>2022-12-05 00:00:00</td>\n",
       "      <td>0.00684</td>\n",
       "      <td>0.00684</td>\n",
       "      <td>0.00683</td>\n",
       "      <td>0.00683</td>\n",
       "    </tr>\n",
       "  </tbody>\n",
       "</table>\n",
       "<p>5000 rows × 5 columns</p>\n",
       "</div>"
      ],
      "text/plain": [
       "                 datetime     open     high      low    close\n",
       "0     2022-11-16 06:55:00  0.00675  0.00675  0.00675  0.00675\n",
       "1     2022-11-16 07:00:00  0.00675  0.00676  0.00674  0.00676\n",
       "2     2022-11-16 07:05:00  0.00675  0.00676  0.00675  0.00675\n",
       "3     2022-11-16 07:10:00  0.00675  0.00675  0.00674  0.00674\n",
       "4     2022-11-16 07:15:00  0.00674  0.00675  0.00674  0.00675\n",
       "...                   ...      ...      ...      ...      ...\n",
       "4995  2022-12-04 23:40:00  0.00684  0.00684  0.00684  0.00684\n",
       "4996  2022-12-04 23:45:00  0.00684  0.00685  0.00684  0.00685\n",
       "4997  2022-12-04 23:50:00  0.00685  0.00686  0.00685  0.00685\n",
       "4998  2022-12-04 23:55:00  0.00685  0.00685  0.00684  0.00684\n",
       "4999  2022-12-05 00:00:00  0.00684  0.00684  0.00683  0.00683\n",
       "\n",
       "[5000 rows x 5 columns]"
      ]
     },
     "execution_count": 13,
     "metadata": {},
     "output_type": "execute_result"
    }
   ],
   "source": [
    "test_start='2022-12-02 00:00:00'\n",
    "test_end='2022-12-05 00:00:00'\n",
    "\n",
    "test_api_url=f'https://api.twelvedata.com/time_series?symbol={symbel}&start_data={test_start}&end_date={test_end}&interval={interval}&order={order}&apikey={api_key}'\n",
    "test_data = requests.get(test_api_url).json()\n",
    "test_data_final = pd.DataFrame(test_data['values'])\n",
    "test_data_final\n"
   ]
  },
  {
   "cell_type": "code",
   "execution_count": 14,
   "metadata": {
    "colab": {
     "base_uri": "https://localhost:8080/"
    },
    "id": "iNs-XZJkqKpA",
    "outputId": "f35d7e6d-5645-431f-e948-1916bc178779"
   },
   "outputs": [
    {
     "data": {
      "text/plain": [
       "0       0.00675\n",
       "1       0.00676\n",
       "2       0.00675\n",
       "3       0.00674\n",
       "4       0.00675\n",
       "         ...   \n",
       "4995    0.00684\n",
       "4996    0.00685\n",
       "4997    0.00685\n",
       "4998    0.00684\n",
       "4999    0.00683\n",
       "Name: close, Length: 5000, dtype: object"
      ]
     },
     "execution_count": 14,
     "metadata": {},
     "output_type": "execute_result"
    }
   ],
   "source": [
    "test_data_final['close']"
   ]
  },
  {
   "cell_type": "code",
   "execution_count": 15,
   "metadata": {
    "colab": {
     "base_uri": "https://localhost:8080/"
    },
    "id": "W_rVSFsp0BCB",
    "outputId": "529a0742-3290-4b63-efdf-f586a7d984e6"
   },
   "outputs": [
    {
     "data": {
      "text/plain": [
       "0       0.00675\n",
       "1       0.00676\n",
       "2       0.00675\n",
       "3       0.00674\n",
       "4       0.00675\n",
       "         ...   \n",
       "4995    0.00684\n",
       "4996    0.00685\n",
       "4997    0.00685\n",
       "4998    0.00684\n",
       "4999    0.00683\n",
       "Name: close, Length: 5000, dtype: float64"
      ]
     },
     "execution_count": 15,
     "metadata": {},
     "output_type": "execute_result"
    }
   ],
   "source": [
    "pd.to_numeric (test_data_final['close'],errors='coerce')"
   ]
  },
  {
   "cell_type": "code",
   "execution_count": 16,
   "metadata": {
    "id": "BQHAI6li0Zi2"
   },
   "outputs": [],
   "source": [
    "bitcoin_prices = pd.to_numeric (test_data_final['close'],errors='coerce').values\n",
    "\n",
    "test_inputs =  test_data_final['close'].values\n",
    "test_inputs = test_inputs.reshape(-1,1)\n",
    "model_inputs = scaler.fit_transform(test_inputs)"
   ]
  },
  {
   "cell_type": "code",
   "execution_count": 17,
   "metadata": {
    "id": "dNmf_o-h0kmq"
   },
   "outputs": [],
   "source": [
    "x_test = []\n",
    "\n",
    "for x in range(time_intervals_to_train,len(model_inputs)):\n",
    "  x_test.append(model_inputs[x - time_intervals_to_train:x, 0])\n",
    "\n",
    "x_test = np.array(x_test)\n",
    "x_test = np.reshape(x_test,(x_test.shape[0],x_test.shape[1],1))"
   ]
  },
  {
   "cell_type": "code",
   "execution_count": 18,
   "metadata": {
    "colab": {
     "base_uri": "https://localhost:8080/"
    },
    "id": "HNvNVgT82JML",
    "outputId": "17aba62e-aa83-4e0c-f5e5-39b0b0cd971e"
   },
   "outputs": [
    {
     "data": {
      "text/plain": [
       "(4976, 24, 1)"
      ]
     },
     "execution_count": 18,
     "metadata": {},
     "output_type": "execute_result"
    }
   ],
   "source": [
    "x_test.shape"
   ]
  },
  {
   "cell_type": "code",
   "execution_count": 19,
   "metadata": {
    "colab": {
     "base_uri": "https://localhost:8080/"
    },
    "id": "8FUCRdZP4EPZ",
    "outputId": "3859b5d0-96b9-4dc0-ee5e-aa9eda7f79bc"
   },
   "outputs": [
    {
     "name": "stdout",
     "output_type": "stream",
     "text": [
      "156/156 [==============================] - 2s 12ms/step\n"
     ]
    }
   ],
   "source": [
    "prediction_prices = model.predict(x_test)\n",
    "prediction_prices = scaler.inverse_transform(prediction_prices)"
   ]
  },
  {
   "cell_type": "code",
   "execution_count": 21,
   "metadata": {
    "colab": {
     "base_uri": "https://localhost:8080/",
     "height": 367
    },
    "id": "BhU3mLne5A56",
    "outputId": "367bca67-990c-4395-bf98-78c8a0c2b75a"
   },
   "outputs": [
    {
     "data": {
      "text/plain": [
       "<function matplotlib.pyplot.show(close=None, block=None)>"
      ]
     },
     "execution_count": 21,
     "metadata": {},
     "output_type": "execute_result"
    },
    {
     "data": {
      "image/png": "[encoded data removed]",
      "text/plain": [
       "<Figure size 720x360 with 1 Axes>"
      ]
     },
     "metadata": {
      "needs_background": "light"
     },
     "output_type": "display_data"
    }
   ],
   "source": [
    "plt.figure(figsize=(10,5))\n",
    "plt.plot(bitcoin_prices, label = 'Bitcoin Prices')\n",
    "plt.plot(prediction_prices, label='Predicted prices')\n",
    "plt.title('Predicting Bitcoin Price')\n",
    "plt.xlabel('5min time interval')\n",
    "plt.ylabel('Price')\n",
    "plt.legend()\n",
    "plt.show"
   ]
  },
  {
   "cell_type": "markdown",
   "metadata": {
    "id": "BewzxlaiEdbl"
   },
   "source": [
    "In the observation of the above graph we come to know that the **predicted value  and actual value are almost closer**, So we conclude that the model has a good accuracy."
   ]
  },
  {
   "cell_type": "markdown",
   "metadata": {
    "id": "oEgSZnAhD7QC"
   },
   "source": [
    "Lets predit what whould be price after 5 min"
   ]
  },
  {
   "cell_type": "code",
   "execution_count": 22,
   "metadata": {
    "id": "EBhq2zHs6Uzs"
   },
   "outputs": [],
   "source": [
    "last_data = model_inputs[len(model_inputs)+1 - time_intervals_to_train : len(model_inputs)+1,0]\n",
    "last_data = np.array(last_data)"
   ]
  },
  {
   "cell_type": "code",
   "execution_count": 23,
   "metadata": {
    "colab": {
     "base_uri": "https://localhost:8080/"
    },
    "id": "sC8xaYDRCRw5",
    "outputId": "8318ffb0-ccaf-418c-a024-1fa7c8f8c5bf"
   },
   "outputs": [
    {
     "data": {
      "text/plain": [
       "(23,)"
      ]
     },
     "execution_count": 23,
     "metadata": {},
     "output_type": "execute_result"
    }
   ],
   "source": [
    "last_data.shape"
   ]
  },
  {
   "cell_type": "code",
   "execution_count": 24,
   "metadata": {
    "id": "PA7jZuRxCY40"
   },
   "outputs": [],
   "source": [
    "last_data = np.reshape(last_data, (1, last_data.shape[0], 1))"
   ]
  },
  {
   "cell_type": "code",
   "execution_count": 25,
   "metadata": {
    "colab": {
     "base_uri": "https://localhost:8080/"
    },
    "id": "IKE09HH2CqMN",
    "outputId": "3da0a873-23fe-45de-d2ee-d50771fc1971"
   },
   "outputs": [
    {
     "name": "stdout",
     "output_type": "stream",
     "text": [
      "1/1 [==============================] - 1s 526ms/step\n"
     ]
    }
   ],
   "source": [
    "prediction = model.predict(last_data)"
   ]
  },
  {
   "cell_type": "code",
   "execution_count": 26,
   "metadata": {
    "id": "0j1NIZMBDJ-k"
   },
   "outputs": [],
   "source": [
    "prediction = scaler.inverse_transform(prediction)"
   ]
  },
  {
   "cell_type": "code",
   "execution_count": 27,
   "metadata": {
    "colab": {
     "base_uri": "https://localhost:8080/"
    },
    "id": "eXgNJM12DSBG",
    "outputId": "e558f537-7639-4390-ef07-0503cea44da2"
   },
   "outputs": [
    {
     "data": {
      "text/plain": [
       "array([[0.00680945]], dtype=float32)"
      ]
     },
     "execution_count": 27,
     "metadata": {},
     "output_type": "execute_result"
    }
   ],
   "source": [
    "prediction"
   ]
  },
  {
   "cell_type": "markdown",
   "metadata": {
    "id": "nU8keGABEICN"
   },
   "source": [
    "We come to that price of the bitcoin price after 5 min"
   ]
  },
  {
   "cell_type": "code",
   "execution_count": null,
   "metadata": {
    "id": "yPmBRHOIDrRd"
   },
   "outputs": [],
   "source": []
  }
 ],
 "metadata": {
  "colab": {
   "provenance": []
  },
  "kernelspec": {
   "display_name": "Python 3 (ipykernel)",
   "language": "python",
   "name": "python3"
  },
  "language_info": {
   "codemirror_mode": {
    "name": "ipython",
    "version": 3
   },
   "file_extension": ".py",
   "mimetype": "text/x-python",
   "name": "python",
   "nbconvert_exporter": "python",
   "pygments_lexer": "ipython3",
   "version": "3.9.12"
  }
 },
 "nbformat": 4,
 "nbformat_minor": 1
}
